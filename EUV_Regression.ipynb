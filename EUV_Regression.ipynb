{
 "cells": [
  {
   "cell_type": "markdown",
   "id": "831e82d8-0c69-45dc-8d7a-a3c9495b9c94",
   "metadata": {},
   "source": [
    "# Elastic Net Regression and Chianti Line List Analysis\n",
    "-----\n",
    "\n",
    "This notebook contains the code and step-by-step instructions for reproducing the statistical analysis of the solar EUV spectrum with the Chianti Atomic Database. \n",
    "\n",
    "All of the required files (except for arrays_compressed.npz) can be found on github: https://github.com/GriffinKeener-lasp/EUV-Elastic-Net\n",
    "\n",
    "----\n",
    "First, import the packages and initialize the NetRegressor class\n",
    "\n"
   ]
  },
  {
   "cell_type": "code",
   "execution_count": null,
   "id": "16d669f1-63d6-490b-ba38-a133776e53d2",
   "metadata": {},
   "outputs": [],
   "source": [
    "import numpy as np\n",
    "from euvRegression import ElasticNet, ChiantiPrep, NetRegressor, Plot\n",
    "import seaborn as sns \n",
    "import matplotlib.pyplot as plt\n",
    "\n",
    "# Ignore the warnings here"
   ]
  },
  {
   "cell_type": "code",
   "execution_count": null,
   "id": "b064f6f3-c388-425d-ae4b-46c0359d7456",
   "metadata": {},
   "outputs": [],
   "source": [
    "net = NetRegressor(file_path = 'arrays_compressed.npz', num_nets = 100)"
   ]
  },
  {
   "cell_type": "markdown",
   "id": "12c2cb35-204f-4c23-8f42-db532d2f4d2e",
   "metadata": {},
   "source": [
    "# Prepare the Data and Perform the Elastic Net Regression\n",
    "\n",
    "## net.prep_data()\n",
    "----\n",
    "This function simply reads in the data, and combines the DEM with the EXIS data. This is so that we can create a model in which the EVE spectrum can be reproduced from the DEM + EXIS. \n",
    "\n",
    "## run_regression_pipeline\n",
    "----\n",
    "This is where the bulk of the computation happens. (Note: on an M2, 8 core CPU this process takes ~1 hour to complete)\n",
    "\n",
    "### Processes\n",
    "1. Initialize temperature ranges and empty arrays\n",
    "2. Train_test_split\n",
    "   * Split the data into training and testing sets, default test size for this is 25% of the data\n",
    "3. Standardization\n",
    "   * Uses sklearn.StandardScaler(). We use fit_transform() on the training data, and transform() on the testing data\n",
    "   * Standardization is important to make the model happy. The model only works on data with a mean of 0 and a variance of ~1. During the regression, the mean and variance are printed periodically to ensure that these are true. \n",
    "\n",
    "4. Elastic Net Regression\n",
    "   * Here we run the regression under the following conditions:\n",
    "     ElasticNet(fit_intercept=False, max_iter=100, random_state=42, alpha=1e-6, l1_ratio=0.5, selection='random', warm_start=True)\n",
    "   * a lower value for alpha will yield more coefficients, and a higher value will produce less. Higher alphas take more time to compute, as they will push more coefficients to zero. A more in depth description can be found on the sklearn docs: https://scikit-learn.org/dev/modules/generated/sklearn.linear_model.ElasticNet.html\n",
    "  \n",
    "5. Align results with Chianti\n",
    "   * For each regression, a chianti dataframe is created. The ion that most closely matches in wavelength to an EVE line is selected, and the coefficients are stored in that row. For example, HeII has an emission wavelength of 304 A. The model will produce the coefficients for a line at 304.4 A. So the lines that have these coefficients are stored in the dataframe in the HeII row.\n",
    "   * Then, the ChiantiPrep class calls functions to determine the location of the contributing ions based on their temperature in the database\n",
    "\n",
    "6. Find ratios of contribution over time, for each temperature range\n",
    "   * For each temperature zone, we find the ratio of contribution from the Corona and the Transition Region (TR). For example, if the lower TR contains only 1 ion, and that ion has contributions from 6 Corona ions and 4 TR ions, then the ratio is 0.4 (40% of the contribution comes from the TR)"
   ]
  },
  {
   "cell_type": "code",
   "execution_count": null,
   "id": "251b0655-0d20-4eac-a68f-0f065029ef69",
   "metadata": {},
   "outputs": [],
   "source": [
    "net.prep_data()"
   ]
  },
  {
   "cell_type": "markdown",
   "id": "1acfb010-6494-45f3-b194-4a6cedb94c25",
   "metadata": {},
   "source": [
    "### Inputs: \n",
    "\n",
    "1. ion_list_file: The Chianti atomic database file path\n",
    "2. wavelength_file: file path to the wavelength array\n",
    "3. output_dir: The desired output directory for the modified chainti dataframes.\n",
    "   * If None, the dataframes will not be saved. Saving the dataframes is useful if you want to use them, but not necessary for most plotting purposes.\n",
    "\n",
    "4. t_ranges: The temperature ranges of interest, default is t_ranges = np.array([[4, 5], [5, 5.5], [5.5, 6], [6, 6.5], [6.5, 7], [7, 8]]). If other temperature ranges are desired, then make sure they are of the same format"
   ]
  },
  {
   "cell_type": "code",
   "execution_count": null,
   "id": "e2ba1a18-6a04-4123-af00-154bb9d593b2",
   "metadata": {
    "scrolled": true
   },
   "outputs": [],
   "source": [
    "fractions_all = net.run_regression_pipeline(ion_list_file = 'Ion_line_list.xlsx', wavelength_file='wavelength_arr.npy', output_dir = None, t_ranges=None)"
   ]
  },
  {
   "cell_type": "code",
   "execution_count": null,
   "id": "d038447c-ff15-45b9-9b94-1c2836df24bc",
   "metadata": {},
   "outputs": [],
   "source": [
    "# Save the fractions array, this is necessary for plotting \n",
    "\n",
    "np.save('fractions_all.npy', fractions_all)"
   ]
  },
  {
   "cell_type": "markdown",
   "id": "6661f0e3-a2a5-4e13-aa39-39622a4c1dad",
   "metadata": {},
   "source": [
    "# Plotting/Analysis \n",
    "\n",
    "The code below shows some basic plots. Make sure to run the np.save line in the above cell, as that array is the single output of the entire regression pipeline. \n",
    "\n",
    "Inputs\n",
    "--------\n",
    "To initialize the plotting class, only the 'fractions_all' file path is required. \n",
    "\n",
    "Then, to make a ratio plot over time, the time_file argument must be passed to the function. This is the file path to the 'gregorian_dates.pkl' file."
   ]
  },
  {
   "cell_type": "code",
   "execution_count": null,
   "id": "3eff230a-08cd-4dc2-a497-1d0e1ff3a0c0",
   "metadata": {},
   "outputs": [],
   "source": []
  },
  {
   "cell_type": "code",
   "execution_count": null,
   "id": "89f2f8b7-014c-4f38-b098-b07e74a18cf6",
   "metadata": {},
   "outputs": [],
   "source": [
    "plot = Plot('fractions_all.npy')"
   ]
  },
  {
   "cell_type": "code",
   "execution_count": null,
   "id": "ccbf70c2-dea1-4363-baba-56a22a7d76d1",
   "metadata": {},
   "outputs": [],
   "source": [
    "plot.ratio_hist()"
   ]
  },
  {
   "cell_type": "code",
   "execution_count": null,
   "id": "3202ec4d-4fed-4793-97a5-db0e162a1b0f",
   "metadata": {},
   "outputs": [],
   "source": [
    "plot.plot_contribution_ratios('gregorian_dates.pkl')"
   ]
  },
  {
   "cell_type": "code",
   "execution_count": null,
   "id": "f7899400-1a5f-4901-92eb-e9c092913420",
   "metadata": {},
   "outputs": [],
   "source": []
  }
 ],
 "metadata": {
  "kernelspec": {
   "display_name": "Python 3 (ipykernel)",
   "language": "python",
   "name": "python3"
  },
  "language_info": {
   "codemirror_mode": {
    "name": "ipython",
    "version": 3
   },
   "file_extension": ".py",
   "mimetype": "text/x-python",
   "name": "python",
   "nbconvert_exporter": "python",
   "pygments_lexer": "ipython3",
   "version": "3.12.4"
  }
 },
 "nbformat": 4,
 "nbformat_minor": 5
}
